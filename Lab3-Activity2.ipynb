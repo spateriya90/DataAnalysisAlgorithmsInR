{
 "cells": [
  {
   "cell_type": "markdown",
   "metadata": {},
   "source": [
    "# Activity 2: K-nn classification with credit data "
   ]
  },
  {
   "cell_type": "markdown",
   "metadata": {},
   "source": [
    "In this activity, we take the German Credit Data and use it to perform K Nearest Neighbors classification. This process involved \n",
    "removing NA values, normalization of the data, and experimentation with various sample sizes."
   ]
  },
  {
   "cell_type": "markdown",
   "metadata": {},
   "source": [
    "We first load the data from the CSV file and get a summary for the data, after omitting NA values"
   ]
  },
  {
   "cell_type": "code",
   "execution_count": null,
   "metadata": {
    "collapsed": true
   },
   "outputs": [],
   "source": []
  },
  {
   "cell_type": "code",
   "execution_count": 23,
   "metadata": {
    "collapsed": true
   },
   "outputs": [
    {
     "name": "stderr",
     "output_type": "stream",
     "text": [
      "also installing the dependencies 'DEoptimR', 'e1071', 'pcaPP', 'robustbase', 'som', 'lars', 'pls', 'mclust', 'chemometrics', 'mvtnorm'\n",
      "\n"
     ]
    },
    {
     "name": "stdout",
     "output_type": "stream",
     "text": [
      "package 'DEoptimR' successfully unpacked and MD5 sums checked\n",
      "package 'e1071' successfully unpacked and MD5 sums checked\n",
      "package 'pcaPP' successfully unpacked and MD5 sums checked\n",
      "package 'robustbase' successfully unpacked and MD5 sums checked\n",
      "package 'som' successfully unpacked and MD5 sums checked\n",
      "package 'lars' successfully unpacked and MD5 sums checked\n",
      "package 'pls' successfully unpacked and MD5 sums checked\n",
      "package 'mclust' successfully unpacked and MD5 sums checked\n",
      "package 'chemometrics' successfully unpacked and MD5 sums checked\n",
      "package 'mvtnorm' successfully unpacked and MD5 sums checked\n",
      "package 'FNN' successfully unpacked and MD5 sums checked\n",
      "\n",
      "The downloaded binary packages are in\n",
      "\tC:\\Users\\Siddharth1\\AppData\\Local\\Temp\\Rtmp2TrZ3g\\downloaded_packages\n"
     ]
    },
    {
     "name": "stderr",
     "output_type": "stream",
     "text": [
      "Warning message:\n",
      "\"package 'FNN' was built under R version 3.3.3\""
     ]
    }
   ],
   "source": [
    "# install.packages(\"FNN\", dependencies=TRUE, repos='http://cran.us.r-project.org')\n",
    "library(\"FNN\")\n",
    "library(dplyr)\n",
    "library(gdata)"
   ]
  },
  {
   "cell_type": "code",
   "execution_count": 9,
   "metadata": {
    "collapsed": true
   },
   "outputs": [],
   "source": [
    "\n",
    "data <- read.csv(\"german_credit_data1.csv\")"
   ]
  },
  {
   "cell_type": "code",
   "execution_count": 10,
   "metadata": {
    "collapsed": true
   },
   "outputs": [
    {
     "data": {
      "text/html": [
       "<table>\n",
       "<thead><tr><th scope=col>X.</th><th scope=col>Age</th><th scope=col>Sex</th><th scope=col>Job</th><th scope=col>Housing</th><th scope=col>Saving.accounts</th><th scope=col>Checking.account</th><th scope=col>Credit.amount</th><th scope=col>Duration</th><th scope=col>Purpose</th><th scope=col>Credit.Risks</th></tr></thead>\n",
       "<tbody>\n",
       "\t<tr><td>0                  </td><td>67                 </td><td>male               </td><td>2                  </td><td>own                </td><td>NA                 </td><td>little             </td><td>1169               </td><td> 6                 </td><td>radio/TV           </td><td>1                  </td></tr>\n",
       "\t<tr><td>1                  </td><td>22                 </td><td>female             </td><td>2                  </td><td>own                </td><td>little             </td><td>moderate           </td><td>5951               </td><td>48                 </td><td>radio/TV           </td><td>2                  </td></tr>\n",
       "\t<tr><td>2                  </td><td>49                 </td><td>male               </td><td>1                  </td><td>own                </td><td>little             </td><td>NA                 </td><td>2096               </td><td>12                 </td><td>education          </td><td>1                  </td></tr>\n",
       "\t<tr><td>3                  </td><td>45                 </td><td>male               </td><td>2                  </td><td>free               </td><td>little             </td><td>little             </td><td>7882               </td><td>42                 </td><td>furniture/equipment</td><td>1                  </td></tr>\n",
       "\t<tr><td>4                  </td><td>53                 </td><td>male               </td><td>2                  </td><td>free               </td><td>little             </td><td>little             </td><td>4870               </td><td>24                 </td><td>car                </td><td>2                  </td></tr>\n",
       "\t<tr><td>5                  </td><td>35                 </td><td>male               </td><td>1                  </td><td>free               </td><td>NA                 </td><td>NA                 </td><td>9055               </td><td>36                 </td><td>education          </td><td>1                  </td></tr>\n",
       "</tbody>\n",
       "</table>\n"
      ],
      "text/latex": [
       "\\begin{tabular}{r|lllllllllll}\n",
       " X. & Age & Sex & Job & Housing & Saving.accounts & Checking.account & Credit.amount & Duration & Purpose & Credit.Risks\\\\\n",
       "\\hline\n",
       "\t 0                   & 67                  & male                & 2                   & own                 & NA                  & little              & 1169                &  6                  & radio/TV            & 1                  \\\\\n",
       "\t 1                   & 22                  & female              & 2                   & own                 & little              & moderate            & 5951                & 48                  & radio/TV            & 2                  \\\\\n",
       "\t 2                   & 49                  & male                & 1                   & own                 & little              & NA                  & 2096                & 12                  & education           & 1                  \\\\\n",
       "\t 3                   & 45                  & male                & 2                   & free                & little              & little              & 7882                & 42                  & furniture/equipment & 1                  \\\\\n",
       "\t 4                   & 53                  & male                & 2                   & free                & little              & little              & 4870                & 24                  & car                 & 2                  \\\\\n",
       "\t 5                   & 35                  & male                & 1                   & free                & NA                  & NA                  & 9055                & 36                  & education           & 1                  \\\\\n",
       "\\end{tabular}\n"
      ],
      "text/markdown": [
       "\n",
       "X. | Age | Sex | Job | Housing | Saving.accounts | Checking.account | Credit.amount | Duration | Purpose | Credit.Risks | \n",
       "|---|---|---|---|---|---|\n",
       "| 0                   | 67                  | male                | 2                   | own                 | NA                  | little              | 1169                |  6                  | radio/TV            | 1                   | \n",
       "| 1                   | 22                  | female              | 2                   | own                 | little              | moderate            | 5951                | 48                  | radio/TV            | 2                   | \n",
       "| 2                   | 49                  | male                | 1                   | own                 | little              | NA                  | 2096                | 12                  | education           | 1                   | \n",
       "| 3                   | 45                  | male                | 2                   | free                | little              | little              | 7882                | 42                  | furniture/equipment | 1                   | \n",
       "| 4                   | 53                  | male                | 2                   | free                | little              | little              | 4870                | 24                  | car                 | 2                   | \n",
       "| 5                   | 35                  | male                | 1                   | free                | NA                  | NA                  | 9055                | 36                  | education           | 1                   | \n",
       "\n",
       "\n"
      ],
      "text/plain": [
       "  X. Age Sex    Job Housing Saving.accounts Checking.account Credit.amount\n",
       "1 0  67  male   2   own     NA              little           1169         \n",
       "2 1  22  female 2   own     little          moderate         5951         \n",
       "3 2  49  male   1   own     little          NA               2096         \n",
       "4 3  45  male   2   free    little          little           7882         \n",
       "5 4  53  male   2   free    little          little           4870         \n",
       "6 5  35  male   1   free    NA              NA               9055         \n",
       "  Duration Purpose             Credit.Risks\n",
       "1  6       radio/TV            1           \n",
       "2 48       radio/TV            2           \n",
       "3 12       education           1           \n",
       "4 42       furniture/equipment 1           \n",
       "5 24       car                 2           \n",
       "6 36       education           1           "
      ]
     },
     "metadata": {},
     "output_type": "display_data"
    }
   ],
   "source": [
    "head(data)"
   ]
  },
  {
   "cell_type": "code",
   "execution_count": 11,
   "metadata": {
    "collapsed": true
   },
   "outputs": [
    {
     "data": {
      "text/html": [
       "<ol class=list-inline>\n",
       "\t<li>'X.'</li>\n",
       "\t<li>'Age'</li>\n",
       "\t<li>'Sex'</li>\n",
       "\t<li>'Job'</li>\n",
       "\t<li>'Housing'</li>\n",
       "\t<li>'Saving.accounts'</li>\n",
       "\t<li>'Checking.account'</li>\n",
       "\t<li>'Credit.amount'</li>\n",
       "\t<li>'Duration'</li>\n",
       "\t<li>'Purpose'</li>\n",
       "\t<li>'Credit.Risks'</li>\n",
       "</ol>\n"
      ],
      "text/latex": [
       "\\begin{enumerate*}\n",
       "\\item 'X.'\n",
       "\\item 'Age'\n",
       "\\item 'Sex'\n",
       "\\item 'Job'\n",
       "\\item 'Housing'\n",
       "\\item 'Saving.accounts'\n",
       "\\item 'Checking.account'\n",
       "\\item 'Credit.amount'\n",
       "\\item 'Duration'\n",
       "\\item 'Purpose'\n",
       "\\item 'Credit.Risks'\n",
       "\\end{enumerate*}\n"
      ],
      "text/markdown": [
       "1. 'X.'\n",
       "2. 'Age'\n",
       "3. 'Sex'\n",
       "4. 'Job'\n",
       "5. 'Housing'\n",
       "6. 'Saving.accounts'\n",
       "7. 'Checking.account'\n",
       "8. 'Credit.amount'\n",
       "9. 'Duration'\n",
       "10. 'Purpose'\n",
       "11. 'Credit.Risks'\n",
       "\n",
       "\n"
      ],
      "text/plain": [
       " [1] \"X.\"               \"Age\"              \"Sex\"              \"Job\"             \n",
       " [5] \"Housing\"          \"Saving.accounts\"  \"Checking.account\" \"Credit.amount\"   \n",
       " [9] \"Duration\"         \"Purpose\"          \"Credit.Risks\"    "
      ]
     },
     "metadata": {},
     "output_type": "display_data"
    }
   ],
   "source": [
    "names(data)"
   ]
  },
  {
   "cell_type": "code",
   "execution_count": 13,
   "metadata": {
    "collapsed": true
   },
   "outputs": [
    {
     "name": "stdout",
     "output_type": "stream",
     "text": [
      "'data.frame':\t1000 obs. of  11 variables:\n",
      " $ X.              : int  0 1 2 3 4 5 6 7 8 9 ...\n",
      " $ Age             : int  67 22 49 45 53 35 53 35 61 28 ...\n",
      " $ Sex             : Factor w/ 2 levels \"female\",\"male\": 2 1 2 2 2 2 2 2 2 2 ...\n",
      " $ Job             : int  2 2 1 2 2 1 2 3 1 3 ...\n",
      " $ Housing         : Factor w/ 3 levels \"free\",\"own\",\"rent\": 2 2 2 1 1 1 2 3 2 2 ...\n",
      " $ Saving.accounts : Factor w/ 4 levels \"little\",\"moderate\",..: NA 1 1 1 1 NA 3 1 4 1 ...\n",
      " $ Checking.account: Factor w/ 3 levels \"little\",\"moderate\",..: 1 2 NA 1 1 NA NA 2 NA 2 ...\n",
      " $ Credit.amount   : int  1169 5951 2096 7882 4870 9055 2835 6948 3059 5234 ...\n",
      " $ Duration        : int  6 48 12 42 24 36 24 36 12 30 ...\n",
      " $ Purpose         : Factor w/ 8 levels \"business\",\"car\",..: 6 6 4 5 2 4 5 2 6 2 ...\n",
      " $ Credit.Risks    : int  1 2 1 1 2 1 1 1 1 2 ...\n"
     ]
    }
   ],
   "source": [
    "str(data)"
   ]
  },
  {
   "cell_type": "code",
   "execution_count": 16,
   "metadata": {
    "collapsed": true
   },
   "outputs": [],
   "source": [
    "data <- na.omit(data)"
   ]
  },
  {
   "cell_type": "code",
   "execution_count": 34,
   "metadata": {
    "collapsed": true
   },
   "outputs": [
    {
     "name": "stdout",
     "output_type": "stream",
     "text": [
      "'data.frame':\t522 obs. of  11 variables:\n",
      " $ X.              : int  1 3 4 7 9 10 11 12 13 14 ...\n",
      " $ Age             : int  22 45 53 35 28 25 24 22 60 28 ...\n",
      " $ Sex             : Factor w/ 2 levels \"female\",\"male\": 1 2 2 2 2 1 1 1 2 1 ...\n",
      " $ Job             : int  2 2 2 3 3 2 2 2 1 2 ...\n",
      " $ Housing         : Factor w/ 3 levels \"free\",\"own\",\"rent\": 2 1 1 3 2 3 3 2 2 3 ...\n",
      " $ Saving.accounts : Factor w/ 4 levels \"little\",\"moderate\",..: 1 1 1 1 1 1 1 1 1 1 ...\n",
      " $ Checking.account: Factor w/ 3 levels \"little\",\"moderate\",..: 2 1 1 2 2 2 1 2 1 1 ...\n",
      " $ Credit.amount   : int  5951 7882 4870 6948 5234 1295 4308 1567 1199 1403 ...\n",
      " $ Duration        : int  48 42 24 36 30 12 48 12 24 15 ...\n",
      " $ Purpose         : Factor w/ 8 levels \"business\",\"car\",..: 6 5 2 2 2 2 1 6 2 2 ...\n",
      " $ Credit.Risks    : int  2 1 2 1 2 2 2 1 2 1 ...\n",
      " - attr(*, \"na.action\")=Class 'omit'  Named int [1:478] 1 3 6 7 9 17 18 20 21 25 ...\n",
      "  .. ..- attr(*, \"names\")= chr [1:478] \"1\" \"3\" \"6\" \"7\" ...\n"
     ]
    },
    {
     "data": {
      "text/plain": [
       "       X.             Age            Sex           Job        Housing   \n",
       " Min.   :  1.0   Min.   :19.00   female:168   Min.   :0.000   free: 65  \n",
       " 1st Qu.:233.5   1st Qu.:26.00   male  :354   1st Qu.:2.000   own :349  \n",
       " Median :502.5   Median :31.50                Median :2.000   rent:108  \n",
       " Mean   :493.5   Mean   :34.89                Mean   :1.875             \n",
       " 3rd Qu.:736.8   3rd Qu.:41.00                3rd Qu.:2.000             \n",
       " Max.   :999.0   Max.   :75.00                Max.   :3.000             \n",
       "                                                                        \n",
       "   Saving.accounts Checking.account Credit.amount      Duration    \n",
       " little    :412    little  :245     Min.   :  276   Min.   : 6.00  \n",
       " moderate  : 64    moderate:224     1st Qu.: 1298   1st Qu.:12.00  \n",
       " quite rich: 23    rich    : 53     Median : 2326   Median :18.00  \n",
       " rich      : 23                     Mean   : 3279   Mean   :21.34  \n",
       "                                    3rd Qu.: 3971   3rd Qu.:26.75  \n",
       "                                    Max.   :18424   Max.   :72.00  \n",
       "                                                                   \n",
       "                Purpose     Credit.Risks  \n",
       " car                :173   Min.   :1.000  \n",
       " radio/TV           :132   1st Qu.:1.000  \n",
       " furniture/equipment:107   Median :1.000  \n",
       " business           : 53   Mean   :1.443  \n",
       " education          : 28   3rd Qu.:2.000  \n",
       " repairs            : 14   Max.   :2.000  \n",
       " (Other)            : 15                  "
      ]
     },
     "metadata": {},
     "output_type": "display_data"
    }
   ],
   "source": [
    "str(data)\n",
    "summary(data)"
   ]
  },
  {
   "cell_type": "markdown",
   "metadata": {
    "collapsed": true
   },
   "source": [
    "We now normalize the data in the various numeric columns that we have. I tried two normalization techniques, min-max normalization and scaling. Scaling gave better results and hence I persisted with scaling in the end. "
   ]
  },
  {
   "cell_type": "code",
   "execution_count": 57,
   "metadata": {
    "collapsed": true
   },
   "outputs": [],
   "source": [
    "# http://vitalflux.com/data-science-scale-normalize-numeric-data-using-r/\n",
    "# Function for min-max normalization\n",
    "normalize <- function(x) {\n",
    "    return ((x - min(x)) / (max(x) - min(x)))\n",
    "  }"
   ]
  },
  {
   "cell_type": "code",
   "execution_count": 119,
   "metadata": {
    "collapsed": false
   },
   "outputs": [
    {
     "data": {
      "text/html": [
       "<table>\n",
       "<thead><tr><th></th><th scope=col>X.</th><th scope=col>Age</th><th scope=col>Sex</th><th scope=col>Job</th><th scope=col>Housing</th><th scope=col>Saving.accounts</th><th scope=col>Checking.account</th><th scope=col>Credit.amount</th><th scope=col>Duration</th><th scope=col>Purpose</th><th scope=col>Credit.Risks</th></tr></thead>\n",
       "<tbody>\n",
       "\t<tr><th scope=row>2</th><td>-1.691757          </td><td>-1.093398286       </td><td>female             </td><td>0.1823654          </td><td>own                </td><td>little             </td><td>moderate           </td><td> 0.9122954         </td><td> 2.1373056         </td><td>radio/TV           </td><td> 1.1213059         </td></tr>\n",
       "\t<tr><th scope=row>4</th><td>-1.684887          </td><td> 0.857752104       </td><td>male               </td><td>0.1823654          </td><td>free               </td><td>little             </td><td>little             </td><td> 1.5715298         </td><td> 1.6563082         </td><td>furniture/equipment</td><td>-0.8901088         </td></tr>\n",
       "\t<tr><th scope=row>5</th><td>-1.681453          </td><td> 1.536413109       </td><td>male               </td><td>0.1823654          </td><td>free               </td><td>little             </td><td>little             </td><td> 0.5432470         </td><td> 0.2133159         </td><td>car                </td><td> 1.1213059         </td></tr>\n",
       "\t<tr><th scope=row>8</th><td>-1.671148          </td><td> 0.009425847       </td><td>male               </td><td>1.6469000          </td><td>rent               </td><td>little             </td><td>moderate           </td><td> 1.2526666         </td><td> 1.1753108         </td><td>car                </td><td>-0.8901088         </td></tr>\n",
       "\t<tr><th scope=row>10</th><td>-1.664278          </td><td>-0.584402532       </td><td>male               </td><td>1.6469000          </td><td>own                </td><td>little             </td><td>moderate           </td><td> 0.6675149         </td><td> 0.6943133         </td><td>car                </td><td> 1.1213059         </td></tr>\n",
       "\t<tr><th scope=row>11</th><td>-1.660843          </td><td>-0.838900409       </td><td>female             </td><td>0.1823654          </td><td>rent               </td><td>little             </td><td>moderate           </td><td>-0.6772414         </td><td>-0.7486789         </td><td>car                </td><td> 1.1213059         </td></tr>\n",
       "</tbody>\n",
       "</table>\n"
      ],
      "text/latex": [
       "\\begin{tabular}{r|lllllllllll}\n",
       "  & X. & Age & Sex & Job & Housing & Saving.accounts & Checking.account & Credit.amount & Duration & Purpose & Credit.Risks\\\\\n",
       "\\hline\n",
       "\t2 & -1.691757           & -1.093398286        & female              & 0.1823654           & own                 & little              & moderate            &  0.9122954          &  2.1373056          & radio/TV            &  1.1213059         \\\\\n",
       "\t4 & -1.684887           &  0.857752104        & male                & 0.1823654           & free                & little              & little              &  1.5715298          &  1.6563082          & furniture/equipment & -0.8901088         \\\\\n",
       "\t5 & -1.681453           &  1.536413109        & male                & 0.1823654           & free                & little              & little              &  0.5432470          &  0.2133159          & car                 &  1.1213059         \\\\\n",
       "\t8 & -1.671148           &  0.009425847        & male                & 1.6469000           & rent                & little              & moderate            &  1.2526666          &  1.1753108          & car                 & -0.8901088         \\\\\n",
       "\t10 & -1.664278           & -0.584402532        & male                & 1.6469000           & own                 & little              & moderate            &  0.6675149          &  0.6943133          & car                 &  1.1213059         \\\\\n",
       "\t11 & -1.660843           & -0.838900409        & female              & 0.1823654           & rent                & little              & moderate            & -0.6772414          & -0.7486789          & car                 &  1.1213059         \\\\\n",
       "\\end{tabular}\n"
      ],
      "text/markdown": [
       "\n",
       "| <!--/--> | X. | Age | Sex | Job | Housing | Saving.accounts | Checking.account | Credit.amount | Duration | Purpose | Credit.Risks | \n",
       "|---|---|---|---|---|---|\n",
       "| 2 | -1.691757           | -1.093398286        | female              | 0.1823654           | own                 | little              | moderate            |  0.9122954          |  2.1373056          | radio/TV            |  1.1213059          | \n",
       "| 4 | -1.684887           |  0.857752104        | male                | 0.1823654           | free                | little              | little              |  1.5715298          |  1.6563082          | furniture/equipment | -0.8901088          | \n",
       "| 5 | -1.681453           |  1.536413109        | male                | 0.1823654           | free                | little              | little              |  0.5432470          |  0.2133159          | car                 |  1.1213059          | \n",
       "| 8 | -1.671148           |  0.009425847        | male                | 1.6469000           | rent                | little              | moderate            |  1.2526666          |  1.1753108          | car                 | -0.8901088          | \n",
       "| 10 | -1.664278           | -0.584402532        | male                | 1.6469000           | own                 | little              | moderate            |  0.6675149          |  0.6943133          | car                 |  1.1213059          | \n",
       "| 11 | -1.660843           | -0.838900409        | female              | 0.1823654           | rent                | little              | moderate            | -0.6772414          | -0.7486789          | car                 |  1.1213059          | \n",
       "\n",
       "\n"
      ],
      "text/plain": [
       "   X.        Age          Sex    Job       Housing Saving.accounts\n",
       "2  -1.691757 -1.093398286 female 0.1823654 own     little         \n",
       "4  -1.684887  0.857752104 male   0.1823654 free    little         \n",
       "5  -1.681453  1.536413109 male   0.1823654 free    little         \n",
       "8  -1.671148  0.009425847 male   1.6469000 rent    little         \n",
       "10 -1.664278 -0.584402532 male   1.6469000 own     little         \n",
       "11 -1.660843 -0.838900409 female 0.1823654 rent    little         \n",
       "   Checking.account Credit.amount Duration   Purpose             Credit.Risks\n",
       "2  moderate          0.9122954     2.1373056 radio/TV             1.1213059  \n",
       "4  little            1.5715298     1.6563082 furniture/equipment -0.8901088  \n",
       "5  little            0.5432470     0.2133159 car                  1.1213059  \n",
       "8  moderate          1.2526666     1.1753108 car                 -0.8901088  \n",
       "10 moderate          0.6675149     0.6943133 car                  1.1213059  \n",
       "11 moderate         -0.6772414    -0.7486789 car                  1.1213059  "
      ]
     },
     "metadata": {},
     "output_type": "display_data"
    }
   ],
   "source": [
    "# Applying scaling based normalization to the data\n",
    "\n",
    "data1 <- data\n",
    "# column <- sapply(data1,as.numeric)\n",
    "column<-sapply(data1,is.numeric)\n",
    "data2 <- data1\n",
    "data2[column] <- as.data.frame( scale(data1[column] ))\n",
    "head(data2)\n",
    "\n"
   ]
  },
  {
   "cell_type": "code",
   "execution_count": null,
   "metadata": {
    "collapsed": true
   },
   "outputs": [],
   "source": []
  },
  {
   "cell_type": "markdown",
   "metadata": {
    "collapsed": true
   },
   "source": [
    "Now we sample the data, for various sampling rates (0.9,0.8,0.7) etc, and use all the other columns except Credit.Risks for predicting the labels. The result is stored in a dataframe, and also written to a CSV file at the end."
   ]
  },
  {
   "cell_type": "code",
   "execution_count": 214,
   "metadata": {
    "collapsed": true
   },
   "outputs": [],
   "source": [
    "n.points <- 522 # number of rows in the dataset\n",
    "sampling.rate <- 0.9\n",
    "num.test.set.labels <- n.points * (1 - sampling.rate)\n",
    "training <- sample(1:n.points, sampling.rate * n.points,replace=FALSE)\n",
    "train <- subset(data2[training, ], select = c(Age,factor(Sex), factor(Checking.account),factor(Housing), factor(Saving.accounts),factor(Purpose) ,\n",
    " Job,  Credit.amount, Duration ))\n",
    "\n",
    "# train <- subset(data1[training, ], select = c(Age,  factor(Saving.accounts), factor(Checking.account), factor(Housing)))\n",
    "testing <- setdiff(1:n.points, training)\n",
    "# test <- subset(data[testing, ], select = c(Age, Sex, Saving.accounts, Checking.account, Credit.amount, Duration, Purpose, Credit.Risks))\n",
    "test <- subset(data2[testing, ], select = c(Age,factor(Sex),  factor(Checking.account), factor(Housing),factor(Saving.accounts) ,factor(Purpose) ,\n",
    "Job, Credit.amount, Duration))\n",
    "cl <- data2$Credit.Risks[training]\n",
    "true.labels <- data2$Credit.Risks[testing]"
   ]
  },
  {
   "cell_type": "code",
   "execution_count": 215,
   "metadata": {
    "collapsed": true
   },
   "outputs": [
    {
     "name": "stdout",
     "output_type": "stream",
     "text": [
      "[1] 1\n",
      "[1] 0.4597701\n",
      "[1] 2\n",
      "[1] 0.4214559\n",
      "[1] 3\n",
      "[1] 0.4214559\n",
      "[1] 4\n",
      "[1] 0.3831418\n",
      "[1] 5\n",
      "[1] 0.3639847\n",
      "[1] 6\n",
      "[1] 0.3639847\n",
      "[1] 7\n",
      "[1] 0.3448276\n",
      "[1] 8\n",
      "[1] 0.3639847\n",
      "[1] 9\n",
      "[1] 0.3256705\n",
      "[1] 10\n",
      "[1] 0.3831418\n",
      "[1] 11\n",
      "[1] 0.3448276\n",
      "[1] 12\n",
      "[1] 0.3831418\n",
      "[1] 13\n",
      "[1] 0.3831418\n",
      "[1] 14\n",
      "[1] 0.3639847\n",
      "[1] 15\n",
      "[1] 0.3639847\n",
      "[1] 16\n",
      "[1] 0.3256705\n",
      "[1] 17\n",
      "[1] 0.2873563\n",
      "[1] 18\n",
      "[1] 0.3256705\n",
      "[1] 19\n",
      "[1] 0.2681992\n",
      "[1] 20\n",
      "[1] 0.3448276\n"
     ]
    }
   ],
   "source": [
    "d <- data.frame()\n",
    "\n",
    "for (k in 1:20) {\n",
    "print(k)\n",
    "predicted.labels <- knn(train, test, cl, k)\n",
    "# We're using the R function knn()\n",
    "num.incorrect.labels <- sum(predicted.labels != true.labels)\n",
    "misclassification.rate <- num.incorrect.labels /\n",
    "num.test.set.labels\n",
    "print(misclassification.rate)\n",
    "d <- rbind(d,c(k, misclassification.rate))\n",
    "}"
   ]
  },
  {
   "cell_type": "code",
   "execution_count": 216,
   "metadata": {
    "collapsed": true
   },
   "outputs": [
    {
     "data": {
      "text/html": [
       "<table>\n",
       "<thead><tr><th scope=col>X1</th><th scope=col>X0.459770114942529</th></tr></thead>\n",
       "<tbody>\n",
       "\t<tr><td> 1       </td><td>0.4597701</td></tr>\n",
       "\t<tr><td> 2       </td><td>0.4214559</td></tr>\n",
       "\t<tr><td> 3       </td><td>0.4214559</td></tr>\n",
       "\t<tr><td> 4       </td><td>0.3831418</td></tr>\n",
       "\t<tr><td> 5       </td><td>0.3639847</td></tr>\n",
       "\t<tr><td> 6       </td><td>0.3639847</td></tr>\n",
       "\t<tr><td> 7       </td><td>0.3448276</td></tr>\n",
       "\t<tr><td> 8       </td><td>0.3639847</td></tr>\n",
       "\t<tr><td> 9       </td><td>0.3256705</td></tr>\n",
       "\t<tr><td>10       </td><td>0.3831418</td></tr>\n",
       "\t<tr><td>11       </td><td>0.3448276</td></tr>\n",
       "\t<tr><td>12       </td><td>0.3831418</td></tr>\n",
       "\t<tr><td>13       </td><td>0.3831418</td></tr>\n",
       "\t<tr><td>14       </td><td>0.3639847</td></tr>\n",
       "\t<tr><td>15       </td><td>0.3639847</td></tr>\n",
       "\t<tr><td>16       </td><td>0.3256705</td></tr>\n",
       "\t<tr><td>17       </td><td>0.2873563</td></tr>\n",
       "\t<tr><td>18       </td><td>0.3256705</td></tr>\n",
       "\t<tr><td>19       </td><td>0.2681992</td></tr>\n",
       "\t<tr><td>20       </td><td>0.3448276</td></tr>\n",
       "</tbody>\n",
       "</table>\n"
      ],
      "text/latex": [
       "\\begin{tabular}{r|ll}\n",
       " X1 & X0.459770114942529\\\\\n",
       "\\hline\n",
       "\t  1        & 0.4597701\\\\\n",
       "\t  2        & 0.4214559\\\\\n",
       "\t  3        & 0.4214559\\\\\n",
       "\t  4        & 0.3831418\\\\\n",
       "\t  5        & 0.3639847\\\\\n",
       "\t  6        & 0.3639847\\\\\n",
       "\t  7        & 0.3448276\\\\\n",
       "\t  8        & 0.3639847\\\\\n",
       "\t  9        & 0.3256705\\\\\n",
       "\t 10        & 0.3831418\\\\\n",
       "\t 11        & 0.3448276\\\\\n",
       "\t 12        & 0.3831418\\\\\n",
       "\t 13        & 0.3831418\\\\\n",
       "\t 14        & 0.3639847\\\\\n",
       "\t 15        & 0.3639847\\\\\n",
       "\t 16        & 0.3256705\\\\\n",
       "\t 17        & 0.2873563\\\\\n",
       "\t 18        & 0.3256705\\\\\n",
       "\t 19        & 0.2681992\\\\\n",
       "\t 20        & 0.3448276\\\\\n",
       "\\end{tabular}\n"
      ],
      "text/markdown": [
       "\n",
       "X1 | X0.459770114942529 | \n",
       "|---|---|---|---|---|---|---|---|---|---|---|---|---|---|---|---|---|---|---|---|\n",
       "|  1        | 0.4597701 | \n",
       "|  2        | 0.4214559 | \n",
       "|  3        | 0.4214559 | \n",
       "|  4        | 0.3831418 | \n",
       "|  5        | 0.3639847 | \n",
       "|  6        | 0.3639847 | \n",
       "|  7        | 0.3448276 | \n",
       "|  8        | 0.3639847 | \n",
       "|  9        | 0.3256705 | \n",
       "| 10        | 0.3831418 | \n",
       "| 11        | 0.3448276 | \n",
       "| 12        | 0.3831418 | \n",
       "| 13        | 0.3831418 | \n",
       "| 14        | 0.3639847 | \n",
       "| 15        | 0.3639847 | \n",
       "| 16        | 0.3256705 | \n",
       "| 17        | 0.2873563 | \n",
       "| 18        | 0.3256705 | \n",
       "| 19        | 0.2681992 | \n",
       "| 20        | 0.3448276 | \n",
       "\n",
       "\n"
      ],
      "text/plain": [
       "   X1 X0.459770114942529\n",
       "1   1 0.4597701         \n",
       "2   2 0.4214559         \n",
       "3   3 0.4214559         \n",
       "4   4 0.3831418         \n",
       "5   5 0.3639847         \n",
       "6   6 0.3639847         \n",
       "7   7 0.3448276         \n",
       "8   8 0.3639847         \n",
       "9   9 0.3256705         \n",
       "10 10 0.3831418         \n",
       "11 11 0.3448276         \n",
       "12 12 0.3831418         \n",
       "13 13 0.3831418         \n",
       "14 14 0.3639847         \n",
       "15 15 0.3639847         \n",
       "16 16 0.3256705         \n",
       "17 17 0.2873563         \n",
       "18 18 0.3256705         \n",
       "19 19 0.2681992         \n",
       "20 20 0.3448276         "
      ]
     },
     "metadata": {},
     "output_type": "display_data"
    }
   ],
   "source": [
    "d"
   ]
  },
  {
   "cell_type": "code",
   "execution_count": 217,
   "metadata": {
    "collapsed": true
   },
   "outputs": [],
   "source": [
    "d09 <- d"
   ]
  },
  {
   "cell_type": "code",
   "execution_count": null,
   "metadata": {
    "collapsed": true
   },
   "outputs": [],
   "source": []
  },
  {
   "cell_type": "code",
   "execution_count": 226,
   "metadata": {
    "collapsed": true
   },
   "outputs": [],
   "source": [
    "n.points <- 522 # number of rows in the dataset\n",
    "sampling.rate <- 0.8\n",
    "num.test.set.labels <- n.points * (1 - sampling.rate)\n",
    "training <- sample(1:n.points, sampling.rate * n.points,replace=FALSE)\n",
    "train <- subset(data2[training, ], select = c(Age,factor(Sex), factor(Checking.account),factor(Housing), factor(Saving.accounts),factor(Purpose) ,\n",
    " Job,  Credit.amount, Duration ))\n",
    "\n",
    "# train <- subset(data1[training, ], select = c(Age,  factor(Saving.accounts), factor(Checking.account), factor(Housing)))\n",
    "testing <- setdiff(1:n.points, training)\n",
    "# test <- subset(data[testing, ], select = c(Age, Sex, Saving.accounts, Checking.account, Credit.amount, Duration, Purpose, Credit.Risks))\n",
    "test <- subset(data2[testing, ], select = c(Age,factor(Sex),  factor(Checking.account), factor(Housing),factor(Saving.accounts) ,factor(Purpose) ,\n",
    "Job, Credit.amount, Duration))\n",
    "cl <- data2$Credit.Risks[training]\n",
    "true.labels <- data2$Credit.Risks[testing]"
   ]
  },
  {
   "cell_type": "code",
   "execution_count": 227,
   "metadata": {
    "collapsed": true
   },
   "outputs": [
    {
     "name": "stdout",
     "output_type": "stream",
     "text": [
      "[1] 1\n",
      "[1] 0.3256705\n",
      "[1] 2\n",
      "[1] 0.3544061\n",
      "[1] 3\n",
      "[1] 0.3544061\n",
      "[1] 4\n",
      "[1] 0.3639847\n",
      "[1] 5\n",
      "[1] 0.316092\n",
      "[1] 6\n",
      "[1] 0.3065134\n",
      "[1] 7\n",
      "[1] 0.2586207\n",
      "[1] 8\n",
      "[1] 0.2586207\n",
      "[1] 9\n",
      "[1] 0.2969349\n",
      "[1] 10\n",
      "[1] 0.2298851\n",
      "[1] 11\n",
      "[1] 0.2873563\n",
      "[1] 12\n",
      "[1] 0.2490421\n",
      "[1] 13\n",
      "[1] 0.2586207\n",
      "[1] 14\n",
      "[1] 0.2298851\n",
      "[1] 15\n",
      "[1] 0.2203065\n",
      "[1] 16\n",
      "[1] 0.2586207\n",
      "[1] 17\n",
      "[1] 0.2681992\n",
      "[1] 18\n",
      "[1] 0.2777778\n",
      "[1] 19\n",
      "[1] 0.2681992\n",
      "[1] 20\n",
      "[1] 0.316092\n"
     ]
    }
   ],
   "source": [
    "d08 <- data.frame()\n",
    "\n",
    "for (k in 1:20) {\n",
    "print(k)\n",
    "predicted.labels <- knn(train, test, cl, k)\n",
    "# We're using the R function knn()\n",
    "num.incorrect.labels <- sum(predicted.labels != true.labels)\n",
    "misclassification.rate <- num.incorrect.labels /\n",
    "num.test.set.labels\n",
    "print(misclassification.rate)\n",
    "d08 <- rbind(d08,c(k, misclassification.rate))\n",
    "}"
   ]
  },
  {
   "cell_type": "code",
   "execution_count": 228,
   "metadata": {
    "collapsed": true
   },
   "outputs": [
    {
     "data": {
      "text/html": [
       "<table>\n",
       "<thead><tr><th scope=col>X1</th><th scope=col>X0.325670498084291</th></tr></thead>\n",
       "<tbody>\n",
       "\t<tr><td> 1       </td><td>0.3256705</td></tr>\n",
       "\t<tr><td> 2       </td><td>0.3544061</td></tr>\n",
       "\t<tr><td> 3       </td><td>0.3544061</td></tr>\n",
       "\t<tr><td> 4       </td><td>0.3639847</td></tr>\n",
       "\t<tr><td> 5       </td><td>0.3160920</td></tr>\n",
       "\t<tr><td> 6       </td><td>0.3065134</td></tr>\n",
       "\t<tr><td> 7       </td><td>0.2586207</td></tr>\n",
       "\t<tr><td> 8       </td><td>0.2586207</td></tr>\n",
       "\t<tr><td> 9       </td><td>0.2969349</td></tr>\n",
       "\t<tr><td>10       </td><td>0.2298851</td></tr>\n",
       "\t<tr><td>11       </td><td>0.2873563</td></tr>\n",
       "\t<tr><td>12       </td><td>0.2490421</td></tr>\n",
       "\t<tr><td>13       </td><td>0.2586207</td></tr>\n",
       "\t<tr><td>14       </td><td>0.2298851</td></tr>\n",
       "\t<tr><td>15       </td><td>0.2203065</td></tr>\n",
       "\t<tr><td>16       </td><td>0.2586207</td></tr>\n",
       "\t<tr><td>17       </td><td>0.2681992</td></tr>\n",
       "\t<tr><td>18       </td><td>0.2777778</td></tr>\n",
       "\t<tr><td>19       </td><td>0.2681992</td></tr>\n",
       "\t<tr><td>20       </td><td>0.3160920</td></tr>\n",
       "</tbody>\n",
       "</table>\n"
      ],
      "text/latex": [
       "\\begin{tabular}{r|ll}\n",
       " X1 & X0.325670498084291\\\\\n",
       "\\hline\n",
       "\t  1        & 0.3256705\\\\\n",
       "\t  2        & 0.3544061\\\\\n",
       "\t  3        & 0.3544061\\\\\n",
       "\t  4        & 0.3639847\\\\\n",
       "\t  5        & 0.3160920\\\\\n",
       "\t  6        & 0.3065134\\\\\n",
       "\t  7        & 0.2586207\\\\\n",
       "\t  8        & 0.2586207\\\\\n",
       "\t  9        & 0.2969349\\\\\n",
       "\t 10        & 0.2298851\\\\\n",
       "\t 11        & 0.2873563\\\\\n",
       "\t 12        & 0.2490421\\\\\n",
       "\t 13        & 0.2586207\\\\\n",
       "\t 14        & 0.2298851\\\\\n",
       "\t 15        & 0.2203065\\\\\n",
       "\t 16        & 0.2586207\\\\\n",
       "\t 17        & 0.2681992\\\\\n",
       "\t 18        & 0.2777778\\\\\n",
       "\t 19        & 0.2681992\\\\\n",
       "\t 20        & 0.3160920\\\\\n",
       "\\end{tabular}\n"
      ],
      "text/markdown": [
       "\n",
       "X1 | X0.325670498084291 | \n",
       "|---|---|---|---|---|---|---|---|---|---|---|---|---|---|---|---|---|---|---|---|\n",
       "|  1        | 0.3256705 | \n",
       "|  2        | 0.3544061 | \n",
       "|  3        | 0.3544061 | \n",
       "|  4        | 0.3639847 | \n",
       "|  5        | 0.3160920 | \n",
       "|  6        | 0.3065134 | \n",
       "|  7        | 0.2586207 | \n",
       "|  8        | 0.2586207 | \n",
       "|  9        | 0.2969349 | \n",
       "| 10        | 0.2298851 | \n",
       "| 11        | 0.2873563 | \n",
       "| 12        | 0.2490421 | \n",
       "| 13        | 0.2586207 | \n",
       "| 14        | 0.2298851 | \n",
       "| 15        | 0.2203065 | \n",
       "| 16        | 0.2586207 | \n",
       "| 17        | 0.2681992 | \n",
       "| 18        | 0.2777778 | \n",
       "| 19        | 0.2681992 | \n",
       "| 20        | 0.3160920 | \n",
       "\n",
       "\n"
      ],
      "text/plain": [
       "   X1 X0.325670498084291\n",
       "1   1 0.3256705         \n",
       "2   2 0.3544061         \n",
       "3   3 0.3544061         \n",
       "4   4 0.3639847         \n",
       "5   5 0.3160920         \n",
       "6   6 0.3065134         \n",
       "7   7 0.2586207         \n",
       "8   8 0.2586207         \n",
       "9   9 0.2969349         \n",
       "10 10 0.2298851         \n",
       "11 11 0.2873563         \n",
       "12 12 0.2490421         \n",
       "13 13 0.2586207         \n",
       "14 14 0.2298851         \n",
       "15 15 0.2203065         \n",
       "16 16 0.2586207         \n",
       "17 17 0.2681992         \n",
       "18 18 0.2777778         \n",
       "19 19 0.2681992         \n",
       "20 20 0.3160920         "
      ]
     },
     "metadata": {},
     "output_type": "display_data"
    }
   ],
   "source": [
    "d08"
   ]
  },
  {
   "cell_type": "code",
   "execution_count": null,
   "metadata": {
    "collapsed": true
   },
   "outputs": [],
   "source": []
  },
  {
   "cell_type": "code",
   "execution_count": 324,
   "metadata": {
    "collapsed": true
   },
   "outputs": [],
   "source": [
    "n.points <- 522 # number of rows in the dataset\n",
    "sampling.rate <- 0.7\n",
    "num.test.set.labels <- n.points * (1 - sampling.rate)\n",
    "training <- sample(1:n.points, sampling.rate * n.points,replace=FALSE)\n",
    "train <- subset(data2[training, ], select = c(Age,factor(Sex), factor(Checking.account),factor(Housing), factor(Saving.accounts),factor(Purpose) ,\n",
    " Job,  Credit.amount, Duration ))\n",
    "\n",
    "# train <- subset(data1[training, ], select = c(Age,  factor(Saving.accounts), factor(Checking.account), factor(Housing)))\n",
    "testing <- setdiff(1:n.points, training)\n",
    "# test <- subset(data[testing, ], select = c(Age, Sex, Saving.accounts, Checking.account, Credit.amount, Duration, Purpose, Credit.Risks))\n",
    "test <- subset(data2[testing, ], select = c(Age,factor(Sex),  factor(Checking.account), factor(Housing),factor(Saving.accounts) ,factor(Purpose) ,\n",
    "Job, Credit.amount, Duration))\n",
    "cl <- data2$Credit.Risks[training]\n",
    "true.labels <- data2$Credit.Risks[testing]"
   ]
  },
  {
   "cell_type": "code",
   "execution_count": 325,
   "metadata": {
    "collapsed": true
   },
   "outputs": [
    {
     "name": "stdout",
     "output_type": "stream",
     "text": [
      "[1] 1\n",
      "[1] 0.4469987\n",
      "[1] 2\n",
      "[1] 0.4342273\n",
      "[1] 3\n",
      "[1] 0.3959132\n",
      "[1] 4\n",
      "[1] 0.4214559\n",
      "[1] 5\n",
      "[1] 0.3767561\n",
      "[1] 6\n",
      "[1] 0.3639847\n",
      "[1] 7\n",
      "[1] 0.3703704\n",
      "[1] 8\n",
      "[1] 0.3448276\n",
      "[1] 9\n",
      "[1] 0.357599\n",
      "[1] 10\n",
      "[1] 0.3448276\n",
      "[1] 11\n",
      "[1] 0.293742\n",
      "[1] 12\n",
      "[1] 0.3320562\n",
      "[1] 13\n",
      "[1] 0.3448276\n",
      "[1] 14\n",
      "[1] 0.3384419\n",
      "[1] 15\n",
      "[1] 0.3639847\n",
      "[1] 16\n",
      "[1] 0.3895275\n",
      "[1] 17\n",
      "[1] 0.3639847\n",
      "[1] 18\n",
      "[1] 0.4022989\n",
      "[1] 19\n",
      "[1] 0.3831418\n",
      "[1] 20\n",
      "[1] 0.4086845\n"
     ]
    }
   ],
   "source": [
    "d07 <- data.frame()\n",
    "\n",
    "for (k in 1:20) {\n",
    "print(k)\n",
    "predicted.labels <- knn(train, test, cl, k)\n",
    "# We're using the R function knn()\n",
    "num.incorrect.labels <- sum(predicted.labels != true.labels)\n",
    "misclassification.rate <- num.incorrect.labels /\n",
    "num.test.set.labels\n",
    "print(misclassification.rate)\n",
    "d07 <- rbind(d07,data.frame(k, misclassification.rate))\n",
    "}"
   ]
  },
  {
   "cell_type": "code",
   "execution_count": 326,
   "metadata": {
    "collapsed": true
   },
   "outputs": [],
   "source": [
    "d07copy <- d07"
   ]
  },
  {
   "cell_type": "code",
   "execution_count": 328,
   "metadata": {
    "collapsed": false
   },
   "outputs": [],
   "source": [
    "datafinal <- merge(d09, d08, by=\"X1\")"
   ]
  },
  {
   "cell_type": "code",
   "execution_count": 332,
   "metadata": {
    "collapsed": true
   },
   "outputs": [
    {
     "name": "stderr",
     "output_type": "stream",
     "text": [
      "gdata: Unable to locate valid perl interpreter\n",
      "gdata: \n",
      "gdata: read.xls() will be unable to read Excel XLS and XLSX files\n",
      "gdata: unless the 'perl=' argument is used to specify the location of a\n",
      "gdata: valid perl intrpreter.\n",
      "gdata: \n",
      "gdata: (To avoid display of this message in the future, please ensure\n",
      "gdata: perl is installed and available on the executable search path.)\n",
      "gdata: Unable to load perl libaries needed by read.xls()\n",
      "gdata: to support 'XLX' (Excel 97-2004) files.\n",
      "\n",
      "gdata: Unable to load perl libaries needed by read.xls()\n",
      "gdata: to support 'XLSX' (Excel 2007+) files.\n",
      "\n",
      "gdata: Run the function 'installXLSXsupport()'\n",
      "gdata: to automatically download and install the perl\n",
      "gdata: libaries needed to support Excel XLS and XLSX formats.\n",
      "\n",
      "Attaching package: 'gdata'\n",
      "\n",
      "The following objects are masked from 'package:dplyr':\n",
      "\n",
      "    combine, first, last\n",
      "\n",
      "The following object is masked from 'package:stats':\n",
      "\n",
      "    nobs\n",
      "\n",
      "The following object is masked from 'package:utils':\n",
      "\n",
      "    object.size\n",
      "\n",
      "The following object is masked from 'package:base':\n",
      "\n",
      "    startsWith\n",
      "\n"
     ]
    },
    {
     "name": "stdout",
     "output_type": "stream",
     "text": [
      "\n",
      "Changing in datafinal        \n",
      "From: X1\n",
      "To:   k \n",
      "\n"
     ]
    }
   ],
   "source": [
    "datafinal <-  rename.vars(datafinal, c(\"X1\"), c(\"k\"))\n"
   ]
  },
  {
   "cell_type": "code",
   "execution_count": 333,
   "metadata": {
    "collapsed": false
   },
   "outputs": [],
   "source": [
    "datafinal <- merge(datafinal, d07, by=\"k\")"
   ]
  },
  {
   "cell_type": "code",
   "execution_count": 335,
   "metadata": {
    "collapsed": true
   },
   "outputs": [
    {
     "name": "stdout",
     "output_type": "stream",
     "text": [
      "\n",
      "Changing in datafinal                                                                  \n",
      "From: X0.459770114942529 X0.325670498084291 misclassification.rate\n",
      "To:   train=90           train=80           train=70              \n",
      "\n"
     ]
    }
   ],
   "source": [
    "datafinal <-  rename.vars(datafinal, c(\"X0.459770114942529\",\"X0.325670498084291\",\"misclassification.rate\"), \n",
    "                                     c(\"train=90\",\"train=80\",\"train=70\"))"
   ]
  },
  {
   "cell_type": "code",
   "execution_count": 336,
   "metadata": {
    "collapsed": false
   },
   "outputs": [
    {
     "data": {
      "text/html": [
       "<table>\n",
       "<thead><tr><th scope=col>k</th><th scope=col>train=90</th><th scope=col>train=80</th><th scope=col>train=70</th></tr></thead>\n",
       "<tbody>\n",
       "\t<tr><td> 1       </td><td>0.4597701</td><td>0.3256705</td><td>0.4469987</td></tr>\n",
       "\t<tr><td> 2       </td><td>0.4214559</td><td>0.3544061</td><td>0.4342273</td></tr>\n",
       "\t<tr><td> 3       </td><td>0.4214559</td><td>0.3544061</td><td>0.3959132</td></tr>\n",
       "\t<tr><td> 4       </td><td>0.3831418</td><td>0.3639847</td><td>0.4214559</td></tr>\n",
       "\t<tr><td> 5       </td><td>0.3639847</td><td>0.3160920</td><td>0.3767561</td></tr>\n",
       "\t<tr><td> 6       </td><td>0.3639847</td><td>0.3065134</td><td>0.3639847</td></tr>\n",
       "\t<tr><td> 7       </td><td>0.3448276</td><td>0.2586207</td><td>0.3703704</td></tr>\n",
       "\t<tr><td> 8       </td><td>0.3639847</td><td>0.2586207</td><td>0.3448276</td></tr>\n",
       "\t<tr><td> 9       </td><td>0.3256705</td><td>0.2969349</td><td>0.3575990</td></tr>\n",
       "\t<tr><td>10       </td><td>0.3831418</td><td>0.2298851</td><td>0.3448276</td></tr>\n",
       "\t<tr><td>11       </td><td>0.3448276</td><td>0.2873563</td><td>0.2937420</td></tr>\n",
       "\t<tr><td>12       </td><td>0.3831418</td><td>0.2490421</td><td>0.3320562</td></tr>\n",
       "\t<tr><td>13       </td><td>0.3831418</td><td>0.2586207</td><td>0.3448276</td></tr>\n",
       "\t<tr><td>14       </td><td>0.3639847</td><td>0.2298851</td><td>0.3384419</td></tr>\n",
       "\t<tr><td>15       </td><td>0.3639847</td><td>0.2203065</td><td>0.3639847</td></tr>\n",
       "\t<tr><td>16       </td><td>0.3256705</td><td>0.2586207</td><td>0.3895275</td></tr>\n",
       "\t<tr><td>17       </td><td>0.2873563</td><td>0.2681992</td><td>0.3639847</td></tr>\n",
       "\t<tr><td>18       </td><td>0.3256705</td><td>0.2777778</td><td>0.4022989</td></tr>\n",
       "\t<tr><td>19       </td><td>0.2681992</td><td>0.2681992</td><td>0.3831418</td></tr>\n",
       "\t<tr><td>20       </td><td>0.3448276</td><td>0.3160920</td><td>0.4086845</td></tr>\n",
       "</tbody>\n",
       "</table>\n"
      ],
      "text/latex": [
       "\\begin{tabular}{r|llll}\n",
       " k & train=90 & train=80 & train=70\\\\\n",
       "\\hline\n",
       "\t  1        & 0.4597701 & 0.3256705 & 0.4469987\\\\\n",
       "\t  2        & 0.4214559 & 0.3544061 & 0.4342273\\\\\n",
       "\t  3        & 0.4214559 & 0.3544061 & 0.3959132\\\\\n",
       "\t  4        & 0.3831418 & 0.3639847 & 0.4214559\\\\\n",
       "\t  5        & 0.3639847 & 0.3160920 & 0.3767561\\\\\n",
       "\t  6        & 0.3639847 & 0.3065134 & 0.3639847\\\\\n",
       "\t  7        & 0.3448276 & 0.2586207 & 0.3703704\\\\\n",
       "\t  8        & 0.3639847 & 0.2586207 & 0.3448276\\\\\n",
       "\t  9        & 0.3256705 & 0.2969349 & 0.3575990\\\\\n",
       "\t 10        & 0.3831418 & 0.2298851 & 0.3448276\\\\\n",
       "\t 11        & 0.3448276 & 0.2873563 & 0.2937420\\\\\n",
       "\t 12        & 0.3831418 & 0.2490421 & 0.3320562\\\\\n",
       "\t 13        & 0.3831418 & 0.2586207 & 0.3448276\\\\\n",
       "\t 14        & 0.3639847 & 0.2298851 & 0.3384419\\\\\n",
       "\t 15        & 0.3639847 & 0.2203065 & 0.3639847\\\\\n",
       "\t 16        & 0.3256705 & 0.2586207 & 0.3895275\\\\\n",
       "\t 17        & 0.2873563 & 0.2681992 & 0.3639847\\\\\n",
       "\t 18        & 0.3256705 & 0.2777778 & 0.4022989\\\\\n",
       "\t 19        & 0.2681992 & 0.2681992 & 0.3831418\\\\\n",
       "\t 20        & 0.3448276 & 0.3160920 & 0.4086845\\\\\n",
       "\\end{tabular}\n"
      ],
      "text/markdown": [
       "\n",
       "k | train=90 | train=80 | train=70 | \n",
       "|---|---|---|---|---|---|---|---|---|---|---|---|---|---|---|---|---|---|---|---|\n",
       "|  1        | 0.4597701 | 0.3256705 | 0.4469987 | \n",
       "|  2        | 0.4214559 | 0.3544061 | 0.4342273 | \n",
       "|  3        | 0.4214559 | 0.3544061 | 0.3959132 | \n",
       "|  4        | 0.3831418 | 0.3639847 | 0.4214559 | \n",
       "|  5        | 0.3639847 | 0.3160920 | 0.3767561 | \n",
       "|  6        | 0.3639847 | 0.3065134 | 0.3639847 | \n",
       "|  7        | 0.3448276 | 0.2586207 | 0.3703704 | \n",
       "|  8        | 0.3639847 | 0.2586207 | 0.3448276 | \n",
       "|  9        | 0.3256705 | 0.2969349 | 0.3575990 | \n",
       "| 10        | 0.3831418 | 0.2298851 | 0.3448276 | \n",
       "| 11        | 0.3448276 | 0.2873563 | 0.2937420 | \n",
       "| 12        | 0.3831418 | 0.2490421 | 0.3320562 | \n",
       "| 13        | 0.3831418 | 0.2586207 | 0.3448276 | \n",
       "| 14        | 0.3639847 | 0.2298851 | 0.3384419 | \n",
       "| 15        | 0.3639847 | 0.2203065 | 0.3639847 | \n",
       "| 16        | 0.3256705 | 0.2586207 | 0.3895275 | \n",
       "| 17        | 0.2873563 | 0.2681992 | 0.3639847 | \n",
       "| 18        | 0.3256705 | 0.2777778 | 0.4022989 | \n",
       "| 19        | 0.2681992 | 0.2681992 | 0.3831418 | \n",
       "| 20        | 0.3448276 | 0.3160920 | 0.4086845 | \n",
       "\n",
       "\n"
      ],
      "text/plain": [
       "   k  train=90  train=80  train=70 \n",
       "1   1 0.4597701 0.3256705 0.4469987\n",
       "2   2 0.4214559 0.3544061 0.4342273\n",
       "3   3 0.4214559 0.3544061 0.3959132\n",
       "4   4 0.3831418 0.3639847 0.4214559\n",
       "5   5 0.3639847 0.3160920 0.3767561\n",
       "6   6 0.3639847 0.3065134 0.3639847\n",
       "7   7 0.3448276 0.2586207 0.3703704\n",
       "8   8 0.3639847 0.2586207 0.3448276\n",
       "9   9 0.3256705 0.2969349 0.3575990\n",
       "10 10 0.3831418 0.2298851 0.3448276\n",
       "11 11 0.3448276 0.2873563 0.2937420\n",
       "12 12 0.3831418 0.2490421 0.3320562\n",
       "13 13 0.3831418 0.2586207 0.3448276\n",
       "14 14 0.3639847 0.2298851 0.3384419\n",
       "15 15 0.3639847 0.2203065 0.3639847\n",
       "16 16 0.3256705 0.2586207 0.3895275\n",
       "17 17 0.2873563 0.2681992 0.3639847\n",
       "18 18 0.3256705 0.2777778 0.4022989\n",
       "19 19 0.2681992 0.2681992 0.3831418\n",
       "20 20 0.3448276 0.3160920 0.4086845"
      ]
     },
     "metadata": {},
     "output_type": "display_data"
    }
   ],
   "source": [
    "datafinal"
   ]
  },
  {
   "cell_type": "code",
   "execution_count": 337,
   "metadata": {
    "collapsed": true
   },
   "outputs": [],
   "source": [
    "# write.csv(datafinal,file=\"knnresults.csv\",row.names=FALSE)"
   ]
  },
  {
   "cell_type": "code",
   "execution_count": 2,
   "metadata": {
    "collapsed": true
   },
   "outputs": [],
   "source": [
    "results <- read.csv(file=\"knnresults.csv\", header = TRUE)"
   ]
  },
  {
   "cell_type": "code",
   "execution_count": 3,
   "metadata": {
    "collapsed": false
   },
   "outputs": [
    {
     "data": {
      "text/html": [
       "<table>\n",
       "<thead><tr><th scope=col>k</th><th scope=col>train.90</th><th scope=col>train.80</th><th scope=col>train.70</th></tr></thead>\n",
       "<tbody>\n",
       "\t<tr><td> 1       </td><td>0.4597701</td><td>0.3256705</td><td>0.4469987</td></tr>\n",
       "\t<tr><td> 2       </td><td>0.4214559</td><td>0.3544061</td><td>0.4342273</td></tr>\n",
       "\t<tr><td> 3       </td><td>0.4214559</td><td>0.3544061</td><td>0.3959132</td></tr>\n",
       "\t<tr><td> 4       </td><td>0.3831418</td><td>0.3639847</td><td>0.4214559</td></tr>\n",
       "\t<tr><td> 5       </td><td>0.3639847</td><td>0.3160920</td><td>0.3767561</td></tr>\n",
       "\t<tr><td> 6       </td><td>0.3639847</td><td>0.3065134</td><td>0.3639847</td></tr>\n",
       "\t<tr><td> 7       </td><td>0.3448276</td><td>0.2586207</td><td>0.3703704</td></tr>\n",
       "\t<tr><td> 8       </td><td>0.3639847</td><td>0.2586207</td><td>0.3448276</td></tr>\n",
       "\t<tr><td> 9       </td><td>0.3256705</td><td>0.2969349</td><td>0.3575990</td></tr>\n",
       "\t<tr><td>10       </td><td>0.3831418</td><td>0.2298851</td><td>0.3448276</td></tr>\n",
       "\t<tr><td>11       </td><td>0.3448276</td><td>0.2873563</td><td>0.2937420</td></tr>\n",
       "\t<tr><td>12       </td><td>0.3831418</td><td>0.2490421</td><td>0.3320562</td></tr>\n",
       "\t<tr><td>13       </td><td>0.3831418</td><td>0.2586207</td><td>0.3448276</td></tr>\n",
       "\t<tr><td>14       </td><td>0.3639847</td><td>0.2298851</td><td>0.3384419</td></tr>\n",
       "\t<tr><td>15       </td><td>0.3639847</td><td>0.2203065</td><td>0.3639847</td></tr>\n",
       "\t<tr><td>16       </td><td>0.3256705</td><td>0.2586207</td><td>0.3895275</td></tr>\n",
       "\t<tr><td>17       </td><td>0.2873563</td><td>0.2681992</td><td>0.3639847</td></tr>\n",
       "\t<tr><td>18       </td><td>0.3256705</td><td>0.2777778</td><td>0.4022989</td></tr>\n",
       "\t<tr><td>19       </td><td>0.2681992</td><td>0.2681992</td><td>0.3831418</td></tr>\n",
       "\t<tr><td>20       </td><td>0.3448276</td><td>0.3160920</td><td>0.4086845</td></tr>\n",
       "</tbody>\n",
       "</table>\n"
      ],
      "text/latex": [
       "\\begin{tabular}{r|llll}\n",
       " k & train.90 & train.80 & train.70\\\\\n",
       "\\hline\n",
       "\t  1        & 0.4597701 & 0.3256705 & 0.4469987\\\\\n",
       "\t  2        & 0.4214559 & 0.3544061 & 0.4342273\\\\\n",
       "\t  3        & 0.4214559 & 0.3544061 & 0.3959132\\\\\n",
       "\t  4        & 0.3831418 & 0.3639847 & 0.4214559\\\\\n",
       "\t  5        & 0.3639847 & 0.3160920 & 0.3767561\\\\\n",
       "\t  6        & 0.3639847 & 0.3065134 & 0.3639847\\\\\n",
       "\t  7        & 0.3448276 & 0.2586207 & 0.3703704\\\\\n",
       "\t  8        & 0.3639847 & 0.2586207 & 0.3448276\\\\\n",
       "\t  9        & 0.3256705 & 0.2969349 & 0.3575990\\\\\n",
       "\t 10        & 0.3831418 & 0.2298851 & 0.3448276\\\\\n",
       "\t 11        & 0.3448276 & 0.2873563 & 0.2937420\\\\\n",
       "\t 12        & 0.3831418 & 0.2490421 & 0.3320562\\\\\n",
       "\t 13        & 0.3831418 & 0.2586207 & 0.3448276\\\\\n",
       "\t 14        & 0.3639847 & 0.2298851 & 0.3384419\\\\\n",
       "\t 15        & 0.3639847 & 0.2203065 & 0.3639847\\\\\n",
       "\t 16        & 0.3256705 & 0.2586207 & 0.3895275\\\\\n",
       "\t 17        & 0.2873563 & 0.2681992 & 0.3639847\\\\\n",
       "\t 18        & 0.3256705 & 0.2777778 & 0.4022989\\\\\n",
       "\t 19        & 0.2681992 & 0.2681992 & 0.3831418\\\\\n",
       "\t 20        & 0.3448276 & 0.3160920 & 0.4086845\\\\\n",
       "\\end{tabular}\n"
      ],
      "text/markdown": [
       "\n",
       "k | train.90 | train.80 | train.70 | \n",
       "|---|---|---|---|---|---|---|---|---|---|---|---|---|---|---|---|---|---|---|---|\n",
       "|  1        | 0.4597701 | 0.3256705 | 0.4469987 | \n",
       "|  2        | 0.4214559 | 0.3544061 | 0.4342273 | \n",
       "|  3        | 0.4214559 | 0.3544061 | 0.3959132 | \n",
       "|  4        | 0.3831418 | 0.3639847 | 0.4214559 | \n",
       "|  5        | 0.3639847 | 0.3160920 | 0.3767561 | \n",
       "|  6        | 0.3639847 | 0.3065134 | 0.3639847 | \n",
       "|  7        | 0.3448276 | 0.2586207 | 0.3703704 | \n",
       "|  8        | 0.3639847 | 0.2586207 | 0.3448276 | \n",
       "|  9        | 0.3256705 | 0.2969349 | 0.3575990 | \n",
       "| 10        | 0.3831418 | 0.2298851 | 0.3448276 | \n",
       "| 11        | 0.3448276 | 0.2873563 | 0.2937420 | \n",
       "| 12        | 0.3831418 | 0.2490421 | 0.3320562 | \n",
       "| 13        | 0.3831418 | 0.2586207 | 0.3448276 | \n",
       "| 14        | 0.3639847 | 0.2298851 | 0.3384419 | \n",
       "| 15        | 0.3639847 | 0.2203065 | 0.3639847 | \n",
       "| 16        | 0.3256705 | 0.2586207 | 0.3895275 | \n",
       "| 17        | 0.2873563 | 0.2681992 | 0.3639847 | \n",
       "| 18        | 0.3256705 | 0.2777778 | 0.4022989 | \n",
       "| 19        | 0.2681992 | 0.2681992 | 0.3831418 | \n",
       "| 20        | 0.3448276 | 0.3160920 | 0.4086845 | \n",
       "\n",
       "\n"
      ],
      "text/plain": [
       "   k  train.90  train.80  train.70 \n",
       "1   1 0.4597701 0.3256705 0.4469987\n",
       "2   2 0.4214559 0.3544061 0.4342273\n",
       "3   3 0.4214559 0.3544061 0.3959132\n",
       "4   4 0.3831418 0.3639847 0.4214559\n",
       "5   5 0.3639847 0.3160920 0.3767561\n",
       "6   6 0.3639847 0.3065134 0.3639847\n",
       "7   7 0.3448276 0.2586207 0.3703704\n",
       "8   8 0.3639847 0.2586207 0.3448276\n",
       "9   9 0.3256705 0.2969349 0.3575990\n",
       "10 10 0.3831418 0.2298851 0.3448276\n",
       "11 11 0.3448276 0.2873563 0.2937420\n",
       "12 12 0.3831418 0.2490421 0.3320562\n",
       "13 13 0.3831418 0.2586207 0.3448276\n",
       "14 14 0.3639847 0.2298851 0.3384419\n",
       "15 15 0.3639847 0.2203065 0.3639847\n",
       "16 16 0.3256705 0.2586207 0.3895275\n",
       "17 17 0.2873563 0.2681992 0.3639847\n",
       "18 18 0.3256705 0.2777778 0.4022989\n",
       "19 19 0.2681992 0.2681992 0.3831418\n",
       "20 20 0.3448276 0.3160920 0.4086845"
      ]
     },
     "metadata": {},
     "output_type": "display_data"
    }
   ],
   "source": [
    "results"
   ]
  },
  {
   "cell_type": "code",
   "execution_count": null,
   "metadata": {
    "collapsed": true
   },
   "outputs": [],
   "source": []
  }
 ],
 "metadata": {
  "kernelspec": {
   "display_name": "R",
   "language": "R",
   "name": "ir"
  },
  "language_info": {
   "codemirror_mode": "r",
   "file_extension": ".r",
   "mimetype": "text/x-r-source",
   "name": "R",
   "pygments_lexer": "r",
   "version": "3.3.2"
  }
 },
 "nbformat": 4,
 "nbformat_minor": 2
}
