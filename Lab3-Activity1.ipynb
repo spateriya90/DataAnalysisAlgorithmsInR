{
 "cells": [
  {
   "cell_type": "markdown",
   "metadata": {},
   "source": [
    "# Activity 1 - Linear Model"
   ]
  },
  {
   "cell_type": "markdown",
   "metadata": {},
   "source": [
    "This activity involves applying linear models to the NHL Top 100 Data Set. More specifically, plot the number of goals and assists of players on the x and y axis. Then we create an initial linear model, a linear model where the line passes through Wayne Gretzky, and a model where the lines passes through Patrick Kane. At the end, we change the models to make all the 3 lines pass through the origin, and  their desired points. We then analyze the r squared and p values of the models."
   ]
  },
  {
   "cell_type": "code",
   "execution_count": null,
   "metadata": {
    "collapsed": true
   },
   "outputs": [],
   "source": []
  },
  {
   "cell_type": "code",
   "execution_count": null,
   "metadata": {
    "collapsed": true
   },
   "outputs": [],
   "source": [
    "# Load the required libraries\n",
    "library(dplyr)\n",
    "library(gdata)\n",
    "library(\"broom\")"
   ]
  },
  {
   "cell_type": "code",
   "execution_count": 253,
   "metadata": {
    "collapsed": true
   },
   "outputs": [],
   "source": [
    "# Load the data\n",
    "data <- read.csv(\"NHLTop100.csv\")"
   ]
  },
  {
   "cell_type": "code",
   "execution_count": 254,
   "metadata": {
    "collapsed": true
   },
   "outputs": [
    {
     "data": {
      "text/plain": [
       "      Rank                      Player        Team    Pos     X1st.NHL.Season\n",
       " Min.   :  1.00   Adam Oates       : 1          :92   C:42   1980-1981:10    \n",
       " 1st Qu.: 25.75   Al Macinnis      : 1   NJD    : 2   D:13   1979-1980: 7    \n",
       " Median : 50.50   Alex Delvecchio  : 1   BOS    : 1   L:15   1988-1989: 6    \n",
       " Mean   : 50.50   Alex Kovalev     : 1   CHI    : 1   R:30   1982-1983: 5    \n",
       " 3rd Qu.: 75.25   Alexander Mogilny: 1   DAL    : 1          1984-1985: 5    \n",
       " Max.   :100.00   Andy Bathgate    : 1   DET    : 1          1990-1991: 5    \n",
       "                  (Other)          :94   (Other): 2          (Other)  :62    \n",
       "  Last.NHL.Season       GP             G               A         \n",
       " 2012-2013:10     Min.   : 657   Min.   :185.0   Min.   : 421.0  \n",
       " 2003-2004: 7     1st Qu.:1108   1st Qu.:391.0   1st Qu.: 585.0  \n",
       " 2005-2006: 7     Median :1246   Median :470.5   Median : 700.5  \n",
       " 2008-2009: 6     Mean   :1261   Mean   :475.4   Mean   : 741.8  \n",
       " 1998-1999: 5     3rd Qu.:1408   3rd Qu.:550.8   3rd Qu.: 816.8  \n",
       " 1993-1994: 4     Max.   :1767   Max.   :894.0   Max.   :1963.0  \n",
       " (Other)  :61                                                    \n",
       "       P             X...             PIM               PP       \n",
       " Min.   : 896   Min.   :-146.0   Min.   : 117.0   Min.   :  8.0  \n",
       " 1st Qu.:1018   1st Qu.:  26.5   1st Qu.: 564.8   1st Qu.:108.5  \n",
       " Median :1136   Median :  97.0   Median : 920.5   Median :134.0  \n",
       " Mean   :1217   Mean   : 135.7   Mean   :1036.1   Mean   :139.9  \n",
       " 3rd Qu.:1353   3rd Qu.: 199.0   3rd Qu.:1285.8   3rd Qu.:178.5  \n",
       " Max.   :2857   Max.   : 730.0   Max.   :3565.0   Max.   :274.0  \n",
       "                NA's   :1                         NA's   :1      \n",
       "       SH              GW               GT               OT        \n",
       " Min.   : 0.00   Min.   :  7.00   Min.   : 0.000   Min.   : 0.000  \n",
       " 1st Qu.: 6.50   1st Qu.: 44.00   1st Qu.: 3.000   1st Qu.: 2.000  \n",
       " Median :12.00   Median : 59.00   Median : 7.000   Median : 4.000  \n",
       " Mean   :15.22   Mean   : 60.93   Mean   : 7.038   Mean   : 4.962  \n",
       " 3rd Qu.:22.50   3rd Qu.: 78.00   3rd Qu.:11.000   3rd Qu.: 7.000  \n",
       " Max.   :73.00   Max.   :118.00   Max.   :17.000   Max.   :17.000  \n",
       " NA's   :1       NA's   :1        NA's   :21       NA's   :21      \n",
       "     Shots     \n",
       " Min.   :2045  \n",
       " 1st Qu.:2816  \n",
       " Median :3287  \n",
       " Mean   :3438  \n",
       " 3rd Qu.:3814  \n",
       " Max.   :6206  \n",
       " NA's   :16    "
      ]
     },
     "metadata": {},
     "output_type": "display_data"
    }
   ],
   "source": [
    "# Get a summary of the data\n",
    "summary(data)"
   ]
  },
  {
   "cell_type": "code",
   "execution_count": 255,
   "metadata": {
    "collapsed": true
   },
   "outputs": [
    {
     "data": {
      "text/html": [
       "<table>\n",
       "<thead><tr><th scope=col>data.G</th><th scope=col>data.A</th></tr></thead>\n",
       "<tbody>\n",
       "\t<tr><td>894 </td><td>1963</td></tr>\n",
       "\t<tr><td>694 </td><td>1193</td></tr>\n",
       "\t<tr><td>801 </td><td>1049</td></tr>\n",
       "\t<tr><td>549 </td><td>1249</td></tr>\n",
       "\t<tr><td>731 </td><td>1040</td></tr>\n",
       "\t<tr><td>692 </td><td>1063</td></tr>\n",
       "</tbody>\n",
       "</table>\n"
      ],
      "text/latex": [
       "\\begin{tabular}{r|ll}\n",
       " data.G & data.A\\\\\n",
       "\\hline\n",
       "\t 894  & 1963\\\\\n",
       "\t 694  & 1193\\\\\n",
       "\t 801  & 1049\\\\\n",
       "\t 549  & 1249\\\\\n",
       "\t 731  & 1040\\\\\n",
       "\t 692  & 1063\\\\\n",
       "\\end{tabular}\n"
      ],
      "text/markdown": [
       "\n",
       "data.G | data.A | \n",
       "|---|---|---|---|---|---|\n",
       "| 894  | 1963 | \n",
       "| 694  | 1193 | \n",
       "| 801  | 1049 | \n",
       "| 549  | 1249 | \n",
       "| 731  | 1040 | \n",
       "| 692  | 1063 | \n",
       "\n",
       "\n"
      ],
      "text/plain": [
       "  data.G data.A\n",
       "1 894    1963  \n",
       "2 694    1193  \n",
       "3 801    1049  \n",
       "4 549    1249  \n",
       "5 731    1040  \n",
       "6 692    1063  "
      ]
     },
     "metadata": {},
     "output_type": "display_data"
    },
    {
     "data": {
      "text/html": [
       "100"
      ],
      "text/latex": [
       "100"
      ],
      "text/markdown": [
       "100"
      ],
      "text/plain": [
       "[1] 100"
      ]
     },
     "metadata": {},
     "output_type": "display_data"
    },
    {
     "data": {
      "text/html": [
       "101"
      ],
      "text/latex": [
       "101"
      ],
      "text/markdown": [
       "101"
      ],
      "text/plain": [
       "[1] 101"
      ]
     },
     "metadata": {},
     "output_type": "display_data"
    }
   ],
   "source": [
    "# Create a data frame storing only Goals and Assists, and adding the data for Patrick Kane (283 goals, 459 assists)\n",
    "#  Stats for Patrick Kane taken from the NHL website https://www.nhl.com/player/patrick-kane-8474141\n",
    "\n",
    "ga <- data.frame(data$G,data$A)\n",
    "head(ga)\n",
    "nrow(ga)\n",
    "ga <- rbind(ga,c(283,459))\n",
    "nrow(ga)\n",
    "\n"
   ]
  },
  {
   "cell_type": "markdown",
   "metadata": {},
   "source": [
    "#### Create the linear model for the default dataset and plot it"
   ]
  },
  {
   "cell_type": "code",
   "execution_count": 319,
   "metadata": {
    "collapsed": false
   },
   "outputs": [],
   "source": [
    "model1 <- lm(data.G~data.A,ga)"
   ]
  },
  {
   "cell_type": "code",
   "execution_count": 320,
   "metadata": {
    "collapsed": false
   },
   "outputs": [
    {
     "data": {
      "text/plain": [
       "\n",
       "Call:\n",
       "lm(formula = data.G ~ data.A, data = ga)\n",
       "\n",
       "Coefficients:\n",
       "(Intercept)       data.A  \n",
       "   313.9864       0.2159  \n"
      ]
     },
     "metadata": {},
     "output_type": "display_data"
    }
   ],
   "source": [
    "model1"
   ]
  },
  {
   "cell_type": "code",
   "execution_count": 321,
   "metadata": {
    "collapsed": true
   },
   "outputs": [
    {
     "data": {
      "text/plain": [
       "\n",
       "Call:\n",
       "lm(formula = data.G ~ data.A, data = ga)\n",
       "\n",
       "Residuals:\n",
       "    Min      1Q  Median      3Q     Max \n",
       "-293.69  -86.94   11.68   91.23  286.70 \n",
       "\n",
       "Coefficients:\n",
       "             Estimate Std. Error t value Pr(>|t|)    \n",
       "(Intercept) 313.98639   46.09619   6.812 7.58e-10 ***\n",
       "data.A        0.21586    0.05983   3.608 0.000486 ***\n",
       "---\n",
       "Signif. codes:  0 '***' 0.001 '**' 0.01 '*' 0.05 '.' 0.1 ' ' 1\n",
       "\n",
       "Residual standard error: 130.9 on 99 degrees of freedom\n",
       "Multiple R-squared:  0.1162,\tAdjusted R-squared:  0.1073 \n",
       "F-statistic: 13.02 on 1 and 99 DF,  p-value: 0.000486\n"
      ]
     },
     "metadata": {},
     "output_type": "display_data"
    }
   ],
   "source": [
    "summary(model1)"
   ]
  },
  {
   "cell_type": "code",
   "execution_count": 360,
   "metadata": {
    "collapsed": false
   },
   "outputs": [
    {
     "data": {
      "text/plain": [
       "\n",
       "Call:\n",
       "lm(formula = data.G ~ data.A, data = ga)\n",
       "\n",
       "Residuals:\n",
       "    Min      1Q  Median      3Q     Max \n",
       "-293.69  -86.94   11.68   91.23  286.70 \n",
       "\n",
       "Coefficients:\n",
       "             Estimate Std. Error t value Pr(>|t|)    \n",
       "(Intercept) 313.98639   46.09619   6.812 7.58e-10 ***\n",
       "data.A        0.21586    0.05983   3.608 0.000486 ***\n",
       "---\n",
       "Signif. codes:  0 '***' 0.001 '**' 0.01 '*' 0.05 '.' 0.1 ' ' 1\n",
       "\n",
       "Residual standard error: 130.9 on 99 degrees of freedom\n",
       "Multiple R-squared:  0.1162,\tAdjusted R-squared:  0.1073 \n",
       "F-statistic: 13.02 on 1 and 99 DF,  p-value: 0.000486\n"
      ]
     },
     "metadata": {},
     "output_type": "display_data"
    },
    {
     "data": {
      "image/png": "[encoded data removed]",
      "text/plain": [
       "plot without title"
      ]
     },
     "metadata": {},
     "output_type": "display_data"
    }
   ],
   "source": [
    "a <- NULL\n",
    "plot(data.A~data.G,ga,pch=19,ylim=c(0,2500),xlim=c(0,1000))\n",
    "abline(lm(data.A ~ data.G, data=ga),col=\"red\")\n",
    "summary(model1)\n",
    "# values <- rbind(values,c(\"Original Linear Model\",summary(model1)$r.squared,summary(model1)$coefficients[4]))\n",
    "a <- data.frame(A=glance(model1)$r.squared, B=glance(model1)$p.value,C=\"Original Linear Model\")\n"
   ]
  },
  {
   "cell_type": "markdown",
   "metadata": {},
   "source": [
    "We can see the line above for the default Linear Model based on Goals and Assists"
   ]
  },
  {
   "cell_type": "markdown",
   "metadata": {},
   "source": [
    "#### We create the Model for a line passing through Wayne Gretzky"
   ]
  },
  {
   "cell_type": "code",
   "execution_count": 361,
   "metadata": {
    "collapsed": false
   },
   "outputs": [],
   "source": [
    "model2 <- (lm(I(data.A-1963)~I(data.G-894)+0, ga))\n",
    "\n",
    "b <- data.frame(A=glance(model2)$r.squared, B=glance(model2)$p.value,C=\"Line through Wayne Gretzky\")\n",
    "a <- rbind(a,b)\n",
    "\n",
    "\n"
   ]
  },
  {
   "cell_type": "code",
   "execution_count": 357,
   "metadata": {
    "collapsed": false
   },
   "outputs": [
    {
     "data": {
      "text/plain": [
       "\n",
       "Call:\n",
       "lm(formula = I(data.A - 1963) ~ I(data.G - 894) + 0, data = ga)\n",
       "\n",
       "Residuals:\n",
       "   Min     1Q Median     3Q    Max \n",
       "-902.9 -329.7 -141.1  121.8  700.4 \n",
       "\n",
       "Coefficients:\n",
       "                Estimate Std. Error t value Pr(>|t|)    \n",
       "I(data.G - 894)  2.68045    0.08412   31.86   <2e-16 ***\n",
       "---\n",
       "Signif. codes:  0 '***' 0.001 '**' 0.01 '*' 0.05 '.' 0.1 ' ' 1\n",
       "\n",
       "Residual standard error: 374.1 on 100 degrees of freedom\n",
       "Multiple R-squared:  0.9103,\tAdjusted R-squared:  0.9094 \n",
       "F-statistic:  1015 on 1 and 100 DF,  p-value: < 2.2e-16\n"
      ]
     },
     "metadata": {},
     "output_type": "display_data"
    },
    {
     "data": {
      "image/png": "[encoded data removed]",
      "text/plain": [
       "plot without title"
      ]
     },
     "metadata": {},
     "output_type": "display_data"
    }
   ],
   "source": [
    "# Calculating intercept from above taking slope as 2.68045 from above, we get the intercept as \n",
    "# intercept = y - (slope * x) = 1963 - (2.68045 * 894) = 1963 - 2396.32 = -433.32 ~ -433\n",
    "\n",
    "plot(data.A~data.G,ga,pch=19,ylim=c(0,2500),xlim=c(0,1000))\n",
    "abline(a=-433,b=coef(model2),col=\"blue\")  #Wayne Gretzky Line \n",
    "\n",
    "summary(model2)\n",
    "\n"
   ]
  },
  {
   "cell_type": "markdown",
   "metadata": {},
   "source": [
    "We can see above the plot for the model where the line passes through Wayne Gretzky (894,1963)"
   ]
  },
  {
   "cell_type": "markdown",
   "metadata": {},
   "source": [
    "### Creating a model and plotting a line through Patrick Kane "
   ]
  },
  {
   "cell_type": "code",
   "execution_count": 362,
   "metadata": {
    "collapsed": false
   },
   "outputs": [
    {
     "data": {
      "text/plain": [
       "\n",
       "Call:\n",
       "lm(formula = I(data.A - 459) ~ I(data.G - 283) + 0, data = ga)\n",
       "\n",
       "Residuals:\n",
       "    Min      1Q  Median      3Q     Max \n",
       "-338.04 -112.70   40.16  168.10  801.60 \n",
       "\n",
       "Coefficients:\n",
       "                Estimate Std. Error t value Pr(>|t|)    \n",
       "I(data.G - 283)  1.14959    0.09765   11.77   <2e-16 ***\n",
       "---\n",
       "Signif. codes:  0 '***' 0.001 '**' 0.01 '*' 0.05 '.' 0.1 ' ' 1\n",
       "\n",
       "Residual standard error: 230.8 on 100 degrees of freedom\n",
       "Multiple R-squared:  0.5809,\tAdjusted R-squared:  0.5767 \n",
       "F-statistic: 138.6 on 1 and 100 DF,  p-value: < 2.2e-16\n"
      ]
     },
     "metadata": {},
     "output_type": "display_data"
    }
   ],
   "source": [
    "model3 <- (lm(I(data.A-459)~I(data.G-283)+0, ga))   #model for Patrick Kane\n",
    "# model2 <- (lm(data.A-1963~data.G-894 +0, ga))\n",
    "summary(model3)\n",
    "c <- data.frame(A=glance(model3)$r.squared, B=glance(model3)$p.value,C=\"Line through Patrick Kane\")\n",
    "a <- rbind(a,c)\n",
    "\n"
   ]
  },
  {
   "cell_type": "code",
   "execution_count": 315,
   "metadata": {
    "collapsed": false
   },
   "outputs": [
    {
     "data": {
      "text/plain": [
       "\n",
       "Call:\n",
       "lm(formula = I(data.A - 459) ~ I(data.G - 283) + 0, data = ga)\n",
       "\n",
       "Residuals:\n",
       "    Min      1Q  Median      3Q     Max \n",
       "-338.04 -112.70   40.16  168.10  801.60 \n",
       "\n",
       "Coefficients:\n",
       "                Estimate Std. Error t value Pr(>|t|)    \n",
       "I(data.G - 283)  1.14959    0.09765   11.77   <2e-16 ***\n",
       "---\n",
       "Signif. codes:  0 '***' 0.001 '**' 0.01 '*' 0.05 '.' 0.1 ' ' 1\n",
       "\n",
       "Residual standard error: 230.8 on 100 degrees of freedom\n",
       "Multiple R-squared:  0.5809,\tAdjusted R-squared:  0.5767 \n",
       "F-statistic: 138.6 on 1 and 100 DF,  p-value: < 2.2e-16\n"
      ]
     },
     "metadata": {},
     "output_type": "display_data"
    },
    {
     "data": {
      "image/png": "[encoded data removed]",
      "text/plain": [
       "plot without title"
      ]
     },
     "metadata": {},
     "output_type": "display_data"
    }
   ],
   "source": [
    "# Calculating intercept from above taking slope as 1.14959 from above, we get the intercept as \n",
    "# intercept = y - (slope * x) = 459 - (1.14959 * 283) = 459 - 325.33 = 133.66\n",
    "\n",
    "plot(data.A~data.G,ga,pch=19,ylim=c(0,2500),xlim=c(0,1000))\n",
    "abline(a=133.66,b=coef(model3),col=\"green\")  #Patrick Kane Line   \n",
    "summary(model3)\n",
    "\n"
   ]
  },
  {
   "cell_type": "markdown",
   "metadata": {},
   "source": [
    "We can see that the green line in the plot above passes through Patrick Kane(283,459)"
   ]
  },
  {
   "cell_type": "markdown",
   "metadata": {},
   "source": [
    "Now we shall pass all the three models through the origin, and their required points. This procedure involved a lot of\n",
    "trial and error, through which we matched the slope of the resultant models with the actual slope \n",
    "(slope is calculated using 'y/x')"
   ]
  },
  {
   "cell_type": "code",
   "execution_count": 363,
   "metadata": {
    "collapsed": false,
    "scrolled": false
   },
   "outputs": [
    {
     "data": {
      "text/plain": [
       "\n",
       "Call:\n",
       "lm(formula = I(data.A + 370) ~ I(data.G) + 0, data = ga)\n",
       "\n",
       "Residuals:\n",
       "    Min      1Q  Median      3Q     Max \n",
       "-611.01 -121.94   30.46  225.82  725.80 \n",
       "\n",
       "Coefficients:\n",
       "          Estimate Std. Error t value Pr(>|t|)    \n",
       "I(data.G)  2.20109    0.06378   34.51   <2e-16 ***\n",
       "---\n",
       "Signif. codes:  0 '***' 0.001 '**' 0.01 '*' 0.05 '.' 0.1 ' ' 1\n",
       "\n",
       "Residual standard error: 316.1 on 100 degrees of freedom\n",
       "Multiple R-squared:  0.9225,\tAdjusted R-squared:  0.9218 \n",
       "F-statistic:  1191 on 1 and 100 DF,  p-value: < 2.2e-16\n"
      ]
     },
     "metadata": {},
     "output_type": "display_data"
    },
    {
     "data": {
      "text/plain": [
       "\n",
       "Call:\n",
       "lm(formula = I(data.A + 73) ~ I(data.G) + 0, data = ga)\n",
       "\n",
       "Residuals:\n",
       "    Min      1Q  Median      3Q     Max \n",
       "-479.58 -130.34   12.95  170.36  598.59 \n",
       "\n",
       "Coefficients:\n",
       "          Estimate Std. Error t value Pr(>|t|)    \n",
       "I(data.G)  1.62291    0.05216   31.11   <2e-16 ***\n",
       "---\n",
       "Signif. codes:  0 '***' 0.001 '**' 0.01 '*' 0.05 '.' 0.1 ' ' 1\n",
       "\n",
       "Residual standard error: 258.5 on 100 degrees of freedom\n",
       "Multiple R-squared:  0.9064,\tAdjusted R-squared:  0.9054 \n",
       "F-statistic:   968 on 1 and 100 DF,  p-value: < 2.2e-16\n"
      ]
     },
     "metadata": {},
     "output_type": "display_data"
    },
    {
     "data": {
      "text/plain": [
       "\n",
       "Call:\n",
       "lm(formula = data.A ~ data.G - 1, data = ga)\n",
       "\n",
       "Residuals:\n",
       "   Min     1Q Median     3Q    Max \n",
       "-447.3 -137.1    3.6  157.9  639.2 \n",
       "\n",
       "Coefficients:\n",
       "       Estimate Std. Error t value Pr(>|t|)    \n",
       "data.G  1.48080    0.04977   29.75   <2e-16 ***\n",
       "---\n",
       "Signif. codes:  0 '***' 0.001 '**' 0.01 '*' 0.05 '.' 0.1 ' ' 1\n",
       "\n",
       "Residual standard error: 246.7 on 100 degrees of freedom\n",
       "Multiple R-squared:  0.8985,\tAdjusted R-squared:  0.8975 \n",
       "F-statistic: 885.4 on 1 and 100 DF,  p-value: < 2.2e-16\n"
      ]
     },
     "metadata": {},
     "output_type": "display_data"
    },
    {
     "data": {
      "text/html": [
       "<table>\n",
       "<thead><tr><th scope=col>A</th><th scope=col>B</th><th scope=col>C</th></tr></thead>\n",
       "<tbody>\n",
       "\t<tr><td>0.1162053                            </td><td>4.860220e-04                         </td><td>Original Linear Model                </td></tr>\n",
       "\t<tr><td>0.9103454                            </td><td>3.543781e-54                         </td><td>Line through Wayne Gretzky           </td></tr>\n",
       "\t<tr><td>0.5808792                            </td><td>1.357532e-20                         </td><td>Line through Patrick Kane            </td></tr>\n",
       "\t<tr><td>0.9225345                            </td><td>2.362734e-57                         </td><td>Line through Wayne Gretzky and Origin</td></tr>\n",
       "\t<tr><td>0.9063661                            </td><td>3.114661e-53                         </td><td>Line through Patrick Kane and Origin </td></tr>\n",
       "\t<tr><td>0.8985172                            </td><td>1.750782e-51                         </td><td>Line using original LM and Origin    </td></tr>\n",
       "</tbody>\n",
       "</table>\n"
      ],
      "text/latex": [
       "\\begin{tabular}{r|lll}\n",
       " A & B & C\\\\\n",
       "\\hline\n",
       "\t 0.1162053                             & 4.860220e-04                          & Original Linear Model                \\\\\n",
       "\t 0.9103454                             & 3.543781e-54                          & Line through Wayne Gretzky           \\\\\n",
       "\t 0.5808792                             & 1.357532e-20                          & Line through Patrick Kane            \\\\\n",
       "\t 0.9225345                             & 2.362734e-57                          & Line through Wayne Gretzky and Origin\\\\\n",
       "\t 0.9063661                             & 3.114661e-53                          & Line through Patrick Kane and Origin \\\\\n",
       "\t 0.8985172                             & 1.750782e-51                          & Line using original LM and Origin    \\\\\n",
       "\\end{tabular}\n"
      ],
      "text/markdown": [
       "\n",
       "A | B | C | \n",
       "|---|---|---|---|---|---|\n",
       "| 0.1162053                             | 4.860220e-04                          | Original Linear Model                 | \n",
       "| 0.9103454                             | 3.543781e-54                          | Line through Wayne Gretzky            | \n",
       "| 0.5808792                             | 1.357532e-20                          | Line through Patrick Kane             | \n",
       "| 0.9225345                             | 2.362734e-57                          | Line through Wayne Gretzky and Origin | \n",
       "| 0.9063661                             | 3.114661e-53                          | Line through Patrick Kane and Origin  | \n",
       "| 0.8985172                             | 1.750782e-51                          | Line using original LM and Origin     | \n",
       "\n",
       "\n"
      ],
      "text/plain": [
       "  A         B            C                                    \n",
       "1 0.1162053 4.860220e-04 Original Linear Model                \n",
       "2 0.9103454 3.543781e-54 Line through Wayne Gretzky           \n",
       "3 0.5808792 1.357532e-20 Line through Patrick Kane            \n",
       "4 0.9225345 2.362734e-57 Line through Wayne Gretzky and Origin\n",
       "5 0.9063661 3.114661e-53 Line through Patrick Kane and Origin \n",
       "6 0.8985172 1.750782e-51 Line using original LM and Origin    "
      ]
     },
     "metadata": {},
     "output_type": "display_data"
    },
    {
     "data": {
      "image/png": "[encoded data removed]",
      "text/plain": [
       "plot without title"
      ]
     },
     "metadata": {},
     "output_type": "display_data"
    }
   ],
   "source": [
    "modelWGOrigin <- (lm(I(data.A+370)~I(data.G)+0, ga)) #model for Wayne Gretzky\n",
    "\n",
    "modelPKOrigin<- (lm(I(data.A+73)~I(data.G)+0, ga))   #model for Patrick Kane\n",
    "\n",
    "modelLMOrigin <- lm(data.A ~ data.G -1 , data=ga)   #model for Original Linear Model passing through Origin\n",
    "# Note: the above line uses -1 after data.G so that we do not need an argument for the intercept with this line, as noted in\n",
    "# https://www.zoology.ubc.ca/~schluter/R/fit-model/\n",
    "\n",
    "\n",
    "plot(data.A~data.G,ga,pch=19,ylim=c(0,2500),xlim=c(0,1000))\n",
    "abline(modelWGOrigin,col=\"green\")\n",
    "abline(modelPKOrigin,col=\"blue\")\n",
    "abline(modelLMOrigin,col=\"red\")\n",
    "summary(modelWGOrigin)\n",
    "summary(modelPKOrigin)\n",
    "summary(modelLMOrigin)\n",
    "d<- data.frame(A=glance(modelWGOrigin)$r.squared, B=glance(modelWGOrigin)$p.value,C=\"Line through Wayne Gretzky and Origin\")\n",
    "e<- data.frame(A=glance(modelPKOrigin)$r.squared, B=glance(modelPKOrigin)$p.value,C=\"Line through Patrick Kane and Origin\")\n",
    "f<- data.frame(A=glance(modelLMOrigin)$r.squared, B=glance(modelLMOrigin)$p.value,C=\"Line using original LM and Origin\")\n",
    "\n",
    "a <- rbind(a,d)\n",
    "a <- rbind(a,e)\n",
    "a <- rbind(a,f)\n",
    "\n",
    "\n",
    "\n"
   ]
  },
  {
   "cell_type": "markdown",
   "metadata": {},
   "source": [
    "We see the three models with their respective lines passing through the required points"
   ]
  },
  {
   "cell_type": "code",
   "execution_count": 370,
   "metadata": {
    "collapsed": true
   },
   "outputs": [
    {
     "name": "stderr",
     "output_type": "stream",
     "text": [
      "gdata: Unable to locate valid perl interpreter\n",
      "gdata: \n",
      "gdata: read.xls() will be unable to read Excel XLS and XLSX files\n",
      "gdata: unless the 'perl=' argument is used to specify the location of a\n",
      "gdata: valid perl intrpreter.\n",
      "gdata: \n",
      "gdata: (To avoid display of this message in the future, please ensure\n",
      "gdata: perl is installed and available on the executable search path.)\n",
      "gdata: Unable to load perl libaries needed by read.xls()\n",
      "gdata: to support 'XLX' (Excel 97-2004) files.\n",
      "\n",
      "gdata: Unable to load perl libaries needed by read.xls()\n",
      "gdata: to support 'XLSX' (Excel 2007+) files.\n",
      "\n",
      "gdata: Run the function 'installXLSXsupport()'\n",
      "gdata: to automatically download and install the perl\n",
      "gdata: libaries needed to support Excel XLS and XLSX formats.\n",
      "\n",
      "Attaching package: 'gdata'\n",
      "\n",
      "The following objects are masked from 'package:dplyr':\n",
      "\n",
      "    combine, first, last\n",
      "\n",
      "The following object is masked from 'package:stats':\n",
      "\n",
      "    nobs\n",
      "\n",
      "The following object is masked from 'package:utils':\n",
      "\n",
      "    object.size\n",
      "\n",
      "The following object is masked from 'package:base':\n",
      "\n",
      "    startsWith\n",
      "\n"
     ]
    }
   ],
   "source": [
    "# Storing values in a final table and changing column names\n",
    "modelvalues <- a"
   ]
  },
  {
   "cell_type": "code",
   "execution_count": 371,
   "metadata": {
    "collapsed": false
   },
   "outputs": [],
   "source": [
    "modelvalues <- select(modelvalues,C,A,B)"
   ]
  },
  {
   "cell_type": "code",
   "execution_count": 373,
   "metadata": {
    "collapsed": false,
    "scrolled": true
   },
   "outputs": [
    {
     "name": "stdout",
     "output_type": "stream",
     "text": [
      "\n",
      "Changing in modelvalues                                   \n",
      "From: C     A               B      \n",
      "To:   Model R-squared value P-value\n",
      "\n"
     ]
    }
   ],
   "source": [
    "modelvalues <- rename.vars(modelvalues,c(\"C\",\"A\",\"B\"),c(\"Model\",\"R-squared value\",\"P-value\"))"
   ]
  },
  {
   "cell_type": "code",
   "execution_count": 374,
   "metadata": {
    "collapsed": false
   },
   "outputs": [
    {
     "data": {
      "text/html": [
       "<table>\n",
       "<thead><tr><th scope=col>Model</th><th scope=col>R-squared value</th><th scope=col>P-value</th></tr></thead>\n",
       "<tbody>\n",
       "\t<tr><td>Original Linear Model                </td><td>0.1162053                            </td><td>4.860220e-04                         </td></tr>\n",
       "\t<tr><td>Line through Wayne Gretzky           </td><td>0.9103454                            </td><td>3.543781e-54                         </td></tr>\n",
       "\t<tr><td>Line through Patrick Kane            </td><td>0.5808792                            </td><td>1.357532e-20                         </td></tr>\n",
       "\t<tr><td>Line through Wayne Gretzky and Origin</td><td>0.9225345                            </td><td>2.362734e-57                         </td></tr>\n",
       "\t<tr><td>Line through Patrick Kane and Origin </td><td>0.9063661                            </td><td>3.114661e-53                         </td></tr>\n",
       "\t<tr><td>Line using original LM and Origin    </td><td>0.8985172                            </td><td>1.750782e-51                         </td></tr>\n",
       "</tbody>\n",
       "</table>\n"
      ],
      "text/latex": [
       "\\begin{tabular}{r|lll}\n",
       " Model & R-squared value & P-value\\\\\n",
       "\\hline\n",
       "\t Original Linear Model                 & 0.1162053                             & 4.860220e-04                         \\\\\n",
       "\t Line through Wayne Gretzky            & 0.9103454                             & 3.543781e-54                         \\\\\n",
       "\t Line through Patrick Kane             & 0.5808792                             & 1.357532e-20                         \\\\\n",
       "\t Line through Wayne Gretzky and Origin & 0.9225345                             & 2.362734e-57                         \\\\\n",
       "\t Line through Patrick Kane and Origin  & 0.9063661                             & 3.114661e-53                         \\\\\n",
       "\t Line using original LM and Origin     & 0.8985172                             & 1.750782e-51                         \\\\\n",
       "\\end{tabular}\n"
      ],
      "text/markdown": [
       "\n",
       "Model | R-squared value | P-value | \n",
       "|---|---|---|---|---|---|\n",
       "| Original Linear Model                 | 0.1162053                             | 4.860220e-04                          | \n",
       "| Line through Wayne Gretzky            | 0.9103454                             | 3.543781e-54                          | \n",
       "| Line through Patrick Kane             | 0.5808792                             | 1.357532e-20                          | \n",
       "| Line through Wayne Gretzky and Origin | 0.9225345                             | 2.362734e-57                          | \n",
       "| Line through Patrick Kane and Origin  | 0.9063661                             | 3.114661e-53                          | \n",
       "| Line using original LM and Origin     | 0.8985172                             | 1.750782e-51                          | \n",
       "\n",
       "\n"
      ],
      "text/plain": [
       "  Model                                 R-squared value P-value     \n",
       "1 Original Linear Model                 0.1162053       4.860220e-04\n",
       "2 Line through Wayne Gretzky            0.9103454       3.543781e-54\n",
       "3 Line through Patrick Kane             0.5808792       1.357532e-20\n",
       "4 Line through Wayne Gretzky and Origin 0.9225345       2.362734e-57\n",
       "5 Line through Patrick Kane and Origin  0.9063661       3.114661e-53\n",
       "6 Line using original LM and Origin     0.8985172       1.750782e-51"
      ]
     },
     "metadata": {},
     "output_type": "display_data"
    }
   ],
   "source": [
    "modelvalues"
   ]
  },
  {
   "cell_type": "markdown",
   "metadata": {},
   "source": [
    "We can see from the above table that the best fitted model was the linear model for Wayne Gretzky(both the models). The fit of a model is determined by the R-squared value and p-values, where having a higher r-squared value is desired"
   ]
  },
  {
   "cell_type": "code",
   "execution_count": null,
   "metadata": {
    "collapsed": true
   },
   "outputs": [],
   "source": []
  }
 ],
 "metadata": {
  "kernelspec": {
   "display_name": "R",
   "language": "R",
   "name": "ir"
  },
  "language_info": {
   "codemirror_mode": "r",
   "file_extension": ".r",
   "mimetype": "text/x-r-source",
   "name": "R",
   "pygments_lexer": "r",
   "version": "3.3.2"
  }
 },
 "nbformat": 4,
 "nbformat_minor": 2
}
